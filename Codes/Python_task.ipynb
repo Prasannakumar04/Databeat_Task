{
  "nbformat": 4,
  "nbformat_minor": 0,
  "metadata": {
    "colab": {
      "name": "Python.ipynb",
      "provenance": []
    },
    "kernelspec": {
      "name": "python3",
      "display_name": "Python 3"
    },
    "language_info": {
      "name": "python"
    }
  },
  "cells": [
    {
      "cell_type": "markdown",
      "source": [
        "# **Python**\n",
        "**Q1.** Consider a matrix whose cells are filled with 0’s and 1’s. If two 1’s are adjacent to each other, they are said to be connected. A component is defined as a set of one or more 1’s that are adjacent to each other. An adjacency can be of 5 types - horizontal, vertical, diagonal, horizontal_vertical and horizontal_vertical_diagonal. Given a binary matrix, find the total number of components for a given adjacency type.\n",
        "\n",
        "Write a python program to return the total components whose input from stdin would be as\n",
        "follows:\n",
        "1. Integer representing the adjacency. horizontal, vertical, diagonal, horizontal_vertical\n",
        "and horizontal_vertical_diagonal are represented by 1,2,3,4 and 5 respectively.\n",
        "2. Contains two integers representing the rows and columns of the input matrix.\n",
        "3. Each of next line contains 0’s and 1’s representing the respective row of the input matrix."
      ],
      "metadata": {
        "id": "X3DOUqbzUb_H"
      }
    },
    {
      "cell_type": "code",
      "execution_count": 28,
      "metadata": {
        "colab": {
          "base_uri": "https://localhost:8080/"
        },
        "id": "7kn3XHJzUbW4",
        "outputId": "b13460e2-41a7-45ba-f7bc-e447d604553a"
      },
      "outputs": [
        {
          "output_type": "stream",
          "name": "stdout",
          "text": [
            "Give the number of rows:5\n",
            "Give the number of columns:5\n",
            "1\n",
            "0\n",
            "1\n",
            "0\n",
            "1\n",
            "0\n",
            "1\n",
            "0\n",
            "1\n",
            "0\n",
            "0\n",
            "1\n",
            "1\n",
            "1\n",
            "0\n",
            "0\n",
            "1\n",
            "0\n",
            "1\n",
            "0\n",
            "1\n",
            "0\n",
            "1\n",
            "0\n",
            "1\n",
            "[[1, 0, 1, 0, 1], [0, 1, 0, 1, 0], [0, 1, 1, 1, 0], [0, 1, 0, 1, 0], [1, 0, 1, 0, 1]]\n"
          ]
        }
      ],
      "source": [
        "row = int(input(\"Give the number of rows:\"))  \n",
        "column = int(input(\"Give the number of columns:\"))  \n",
        "m = [[int(input()) for c in range (column)] for r in range(row)]  \n",
        "print(m)"
      ]
    },
    {
      "cell_type": "code",
      "source": [
        "com = 0\n",
        "for i in m:\n",
        "    print(i)\n",
        "    com += sum(i)\n",
        "com"
      ],
      "metadata": {
        "colab": {
          "base_uri": "https://localhost:8080/"
        },
        "id": "yYPgXqboUjZ1",
        "outputId": "898b1a1f-dd58-4297-acbd-e32c7690ec09"
      },
      "execution_count": 29,
      "outputs": [
        {
          "output_type": "stream",
          "name": "stdout",
          "text": [
            "[1, 0, 1, 0, 1]\n",
            "[0, 1, 0, 1, 0]\n",
            "[0, 1, 1, 1, 0]\n",
            "[0, 1, 0, 1, 0]\n",
            "[1, 0, 1, 0, 1]\n"
          ]
        },
        {
          "output_type": "execute_result",
          "data": {
            "text/plain": [
              "13"
            ]
          },
          "metadata": {},
          "execution_count": 29
        }
      ]
    },
    {
      "cell_type": "code",
      "source": [
        "# Horizontal \n",
        "def horizontal(input, tot_hor):\n",
        "    for i in range(len(input)):\n",
        "        for j in range(len(input[i])-1):\n",
        "            if input[i][j] == 1:\n",
        "                if input[i][j+1] == 1:\n",
        "                    tot_hor -= 1\n",
        "    return tot_hor\n",
        "Horizontal = horizontal(m, com)\n",
        "Horizontal"
      ],
      "metadata": {
        "colab": {
          "base_uri": "https://localhost:8080/"
        },
        "id": "L3XEbVizUniV",
        "outputId": "3f37087b-391f-4517-b824-67caf32cdf82"
      },
      "execution_count": 30,
      "outputs": [
        {
          "output_type": "execute_result",
          "data": {
            "text/plain": [
              "11"
            ]
          },
          "metadata": {},
          "execution_count": 30
        }
      ]
    },
    {
      "cell_type": "code",
      "source": [
        "# Vertical\n",
        "def vertical(input, total_vertical):\n",
        "    for i in range(len(input)-1):\n",
        "        for j in range(len(input[i])):\n",
        "            if input[j][i] == 1:\n",
        "                if input[i+1][j] == 1:\n",
        "                    total_vertical -= 1\n",
        "    return total_vertical\n",
        "Vertical = vertical(m, com)\n",
        "Vertical"
      ],
      "metadata": {
        "colab": {
          "base_uri": "https://localhost:8080/"
        },
        "id": "1h21vrC5l93s",
        "outputId": "5141aca2-b124-4e7b-a556-7b4aeb670f8d"
      },
      "execution_count": 31,
      "outputs": [
        {
          "output_type": "execute_result",
          "data": {
            "text/plain": [
              "9"
            ]
          },
          "metadata": {},
          "execution_count": 31
        }
      ]
    },
    {
      "cell_type": "code",
      "source": [
        "# Diagonal\n",
        "def diagonal(input, total_diagonal):\n",
        "    for i in range(len(input)):\n",
        "        for j in range(len(input[i])-1):\n",
        "            if input[i][i] == 1:\n",
        "              if input[i-1][j-1] == 1:\n",
        "                total_diagonal-= 1\n",
        "    return total_diagonal\n",
        "Diagonal = diagonal(m, com)\n",
        "Diagonal"
      ],
      "metadata": {
        "colab": {
          "base_uri": "https://localhost:8080/"
        },
        "id": "FhmbUHUmmADd",
        "outputId": "4deb2c08-d4ec-4c72-afa8-b3216ac4affb"
      },
      "execution_count": 32,
      "outputs": [
        {
          "output_type": "execute_result",
          "data": {
            "text/plain": [
              "3"
            ]
          },
          "metadata": {},
          "execution_count": 32
        }
      ]
    },
    {
      "cell_type": "code",
      "source": [
        "# Horizontal_Vertical\n",
        "def hor_ver(input, tot_hor_ver):\n",
        "    total_hor_ver = 0\n",
        "    for i in range(len(input)):\n",
        "        for j in range(len(input[i])-1):\n",
        "            if input[i][j] == 1:\n",
        "                if input[i][j+1] == 1:\n",
        "                    total_hor_ver += 1\n",
        "            if input[j][i] == 1:\n",
        "                if input[i][j+1] == 1:\n",
        "                    total_hor_ver += 1\n",
        "    return tot_hor_ver - total_hor_ver\n",
        "Hor_Ver = hor_ver(m, com)\n",
        "Hor_Ver"
      ],
      "metadata": {
        "colab": {
          "base_uri": "https://localhost:8080/"
        },
        "id": "VkzAoG3TmFRQ",
        "outputId": "171904d4-6054-43cb-8c3b-7d59ef99b3bf"
      },
      "execution_count": 33,
      "outputs": [
        {
          "output_type": "execute_result",
          "data": {
            "text/plain": [
              "7"
            ]
          },
          "metadata": {},
          "execution_count": 33
        }
      ]
    },
    {
      "cell_type": "code",
      "source": [
        "# Horizontal_Vertical_Diagonal\n",
        "def hvd(input):\n",
        "    tot_hvd = 0\n",
        "    for i in range(len(input)):\n",
        "        for j in range(len(input[i])-1):\n",
        "            if input[i-1][j] == 1:\n",
        "                if input[i-1][j-1] == 1:\n",
        "                  if input[i-2][j]==1:\n",
        "                    if input[i-2][j-1]==1:                                    \n",
        "                        tot_hvd += 1\n",
        "    return tot_hvd\n",
        "HVD = hvd(m)\n",
        "HVD"
      ],
      "metadata": {
        "colab": {
          "base_uri": "https://localhost:8080/"
        },
        "id": "ErcsDKeomIQZ",
        "outputId": "ee240f3e-36a6-44aa-c3b1-7b6ffe45eca3"
      },
      "execution_count": 34,
      "outputs": [
        {
          "output_type": "execute_result",
          "data": {
            "text/plain": [
              "1"
            ]
          },
          "metadata": {},
          "execution_count": 34
        }
      ]
    }
  ]
}